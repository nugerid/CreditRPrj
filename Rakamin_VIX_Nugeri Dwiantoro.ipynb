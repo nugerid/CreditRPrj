{
 "cells": [
  {
   "cell_type": "code",
   "execution_count": null,
   "id": "d37e289d",
   "metadata": {},
   "outputs": [],
   "source": [
    "Jupyter Notebook by Nugeri Dwiantoro"
   ]
  },
  {
   "cell_type": "code",
   "execution_count": 1,
   "id": "e33e9f24",
   "metadata": {},
   "outputs": [],
   "source": [
    "#Import libraries\n",
    "import pandas as pd\n",
    "import matplotlib.pyplot as plt\n",
    "import seaborn as sns"
   ]
  },
  {
   "cell_type": "code",
   "execution_count": null,
   "id": "df5424ec",
   "metadata": {},
   "outputs": [],
   "source": [
    "#Plotting correlation heatmap to know which coloumn should we drop\n",
    "df_loan = pd.read_csv(r'E:\\xxxx\\xxx\\xxx\\Magang ID X Partners\\Week 4\\loan_data_2007_2014.csv',low_memory=False)\n",
    "df_loan.head()\n",
    "\n",
    "df_loan.corr()\n",
    "plt.figure(figsize=(18,16))\n",
    "sns.heatmap(df_loan.corr(), annot=False, cmap='viridis',linewidth=0.25)\n",
    "plt.show()"
   ]
  },
  {
   "cell_type": "code",
   "execution_count": null,
   "id": "37f501e3",
   "metadata": {},
   "outputs": [],
   "source": [
    "#Coloumns Drop\n",
    "df_loan = pd.read_csv(r'E:\\xxxx\\xxx\\xxx\\Magang ID X Partners\\Week 4\\loan_data_2007_2014.csv',low_memory=False)\n",
    "df_loan.head()\n",
    "df_loan.drop(['number','out_prncp','out_prncp_inv','policy_code','annual_inc_joint','dti_joint','verification_status_joint','open_acc_6m','open_il_12m','open_il_24m','mths_since_rcnt_il','total_bal_il','il_util','open_rv_12m','open_rv_24m','max_bal_bc','all_util','total_rev_hi_lim','inq_fi','total_cu_tl','inq_last_12m','open_il_6m'],axis=1,inplace=True)"
   ]
  },
  {
   "cell_type": "code",
   "execution_count": null,
   "id": "8c18cb05",
   "metadata": {},
   "outputs": [],
   "source": [
    "#Plotting loan status graph\n",
    "df_loan = df_loan[(df_loan['loan_status']=='Fully Paid') | (df_loan['loan_status']=='Charged Off')]\n",
    "sns.countplot(x='loan_status', data=df_loan)\n",
    "plt.show()"
   ]
  },
  {
   "cell_type": "code",
   "execution_count": null,
   "id": "90acfea6",
   "metadata": {},
   "outputs": [],
   "source": [
    "#Plotting heatmap of the correlations after dropping irrelevant coloumns\n",
    "df_loan = pd.read_csv(r'E:\\xxxx\\xxx\\xxx\\Magang ID X Partners\\Week 4\\loan_data_2007_2014.csv',low_memory=False)\n",
    "df_loan.corr()\n",
    "plt.figure(figsize=(18,16))\n",
    "sns.heatmap(df_loan.corr(), annot=False, cmap='viridis',linewidth=0.25)\n",
    "plt.show()"
   ]
  },
  {
   "cell_type": "code",
   "execution_count": null,
   "id": "a185d7cf",
   "metadata": {},
   "outputs": [],
   "source": [
    "#Plotting boxplot to compare loan_status based on loan_amounts\n",
    "df_loan.groupby('loan_status')['loan_amnt'].describe()\n",
    "sns.boxplot(x='loan_status', y='loan_amnt', data=df_loan)\n",
    "plt.show()"
   ]
  },
  {
   "cell_type": "code",
   "execution_count": null,
   "id": "8ef326ed",
   "metadata": {},
   "outputs": [],
   "source": [
    "#Plotting each loan_grade by quantity\n",
    "sns.countplot(x='grade', hue='loan_status', data=df_loan)\n",
    "plt.show()"
   ]
  },
  {
   "cell_type": "code",
   "execution_count": null,
   "id": "ecbc967e",
   "metadata": {},
   "outputs": [],
   "source": [
    "#Plotting each loan sub_grade by quantity\n",
    "plt.figure(figsize=(12,4))\n",
    "subgrade_order = sorted(df_loan['sub_grade'].unique())\n",
    "sns.countplot(x= 'sub_grade', data=df_loan, order=subgrade_order, palette='coolwarm')\n",
    "plt.show()"
   ]
  },
  {
   "cell_type": "code",
   "execution_count": null,
   "id": "096cd445",
   "metadata": {},
   "outputs": [],
   "source": [
    "#Plotting the portion of loan_status in each loan sub_grade by quantity\n",
    "plt.figure(figsize=(12,4))\n",
    "subgrade_order = sorted(df_loan['sub_grade'].unique())\n",
    "sns.countplot(x= 'sub_grade', data=df_loan, order=subgrade_order, palette='coolwarm', hue='loan_status')\n",
    "plt.show()"
   ]
  },
  {
   "cell_type": "code",
   "execution_count": null,
   "id": "18515027",
   "metadata": {},
   "outputs": [],
   "source": [
    "#Data Preprocessing\n",
    "df_loan.head()\n",
    "df_loan.isna().sum()\n",
    "\n",
    "df_loan['emp_title'].value_counts()\n",
    "df_loan = df_loan.drop('emp_title', axis=1)\n",
    "\n",
    "sorted(df_loan['emp_length'].dropna().unique())\n",
    "emp_length_order = [ '< 1 year',\n",
    "                      '1 year',\n",
    "                     '2 years',\n",
    "                     '3 years',\n",
    "                     '4 years',\n",
    "                     '5 years',\n",
    "                     '6 years',\n",
    "                     '7 years',\n",
    "                     '8 years',\n",
    "                     '9 years',\n",
    "                     '10+ years']\n",
    "\n",
    "plt.figure(figsize=(12,4))\n",
    "\n",
    "sns.countplot(x='emp_length', data=df_loan, order=emp_length_order)\n",
    "plt.figure(figsize=(12,4))\n",
    "\n",
    "sns.countplot(x='emp_length', data=df_loan, order=emp_length_order, hue='loan_status')\n",
    "\n",
    "emp_co = df_loan[df_loan['loan_status']== 'Charged Off'].groupby('emp_length').count()['loan_status']\n",
    "emp_fp = df_loan[df_loan['loan_status']== 'Fully Paid'].groupby('emp_length').count()['loan_status']\n",
    "\n",
    "emp_len = emp_co/emp_fp\n",
    "emp_len.plot(kind='bar')\n",
    "plt.show()\n",
    "\n",
    "df_loan = df_loan.drop('emp_length', axis=1)\n",
    "df_loan.isna().sum()\n",
    "\n",
    "df_loan['purpose'].head(10)\n",
    "df_loan['title'].head(10)\n",
    "\n",
    "df_loan = df_loan.dropna()\n",
    "df_loan.isna().sum()\n",
    "\n",
    "df_loan['term'].value_counts()\n",
    "df_loan['term'] = df_loan['term'].apply(lambda term: int(term[:3]))\n",
    "df_loan = df_loan.drop('grade', axis=1)\n",
    "subgrade_dummies = pd.get_dummies(df_loan['sub_grade'], drop_first=True)\n",
    "df_loan = pd.concat([df_loan.drop('sub_grade', axis=1), subgrade_dummies], axis=1)\n",
    "\n",
    "dummies = pd.get_dummies(df_loan[['verification_status', 'application_type', 'initial_list_status', 'purpose']], drop_first = True)\n",
    "df_loan = df_loan.drop(['verification_status', 'application_type', 'initial_list_status', 'purpose'], axis=1)\n",
    "df_loan = pd.concat([df_loan, dummies], axis=1)\n",
    "\n",
    "df_loan['home_ownership'].value_counts()\n",
    "df_loan['home_ownership'] = df_loan['home_ownership'].replace(['NONE', 'ANY'], 'OTHER')\n",
    "\n",
    "dummies = pd.get_dummies(df_loan['home_ownership'], drop_first=True)\n",
    "df_loan = df_loan.drop('home_ownership', axis=1)\n",
    "df_loan = pd.concat([df_loan, dummies], axis=1)\n",
    "df_loan = df_loan.drop('issue_d', axis=1)\n",
    "df_loan['earliest_cr_year'] = df_loan['earliest_cr_line'].apply(lambda date:int(date[-4:]))\n",
    "df_loan = df_loan.drop('earliest_cr_line', axis=1)\n",
    "\n",
    "df_loan = df_loan.drop('loan_status', axis=1)"
   ]
  }
 ],
 "metadata": {
  "kernelspec": {
   "display_name": "Python 3 (ipykernel)",
   "language": "python",
   "name": "python3"
  },
  "language_info": {
   "codemirror_mode": {
    "name": "ipython",
    "version": 3
   },
   "file_extension": ".py",
   "mimetype": "text/x-python",
   "name": "python",
   "nbconvert_exporter": "python",
   "pygments_lexer": "ipython3",
   "version": "3.9.12"
  }
 },
 "nbformat": 4,
 "nbformat_minor": 5
}
